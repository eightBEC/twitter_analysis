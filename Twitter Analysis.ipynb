{
 "cells": [
  {
   "cell_type": "code",
   "execution_count": 78,
   "metadata": {},
   "outputs": [],
   "source": [
    "# encoding: utf-8\n",
    "%matplotlib inline\n",
    "import spacy\n",
    "import textacy\n",
    "import textacy.keyterms\n",
    "import scattertext as st\n",
    "import pandas as pd\n",
    "import empath\n",
    "import matplotlib\n",
    "import numpy as np\n",
    "import matplotlib.pyplot as plt\n",
    "import re\n",
    "from nltk.corpus import stopwords\n",
    "from textblob import TextBlob\n",
    "from textblob.sentiments import NaiveBayesAnalyzer\n",
    "from vaderSentiment.vaderSentiment import SentimentIntensityAnalyzer\n",
    "from IPython.display import IFrame\n",
    "from IPython.core.display import display, HTML"
   ]
  },
  {
   "cell_type": "code",
   "execution_count": 2,
   "metadata": {},
   "outputs": [],
   "source": [
    "nlp = spacy.load('en_core_web_sm',disable_pipes=[\"tagger\",\"ner\"])\n",
    "sent_analyser = SentimentIntensityAnalyzer()"
   ]
  },
  {
   "cell_type": "code",
   "execution_count": 516,
   "metadata": {},
   "outputs": [
    {
     "data": {
      "text/plain": [
       "(2811774, 7)"
      ]
     },
     "execution_count": 516,
     "metadata": {},
     "output_type": "execute_result"
    }
   ],
   "source": [
    "twitter = pd.read_csv('./customer-support-on-twitter/twcs.csv')\n",
    "twitter.shape"
   ]
  },
  {
   "cell_type": "code",
   "execution_count": 4,
   "metadata": {},
   "outputs": [
    {
     "name": "stdout",
     "output_type": "stream",
     "text": [
      "ATT\n",
      "ATVIAssist\n",
      "AWSSupport\n",
      "AdobeCare\n",
      "AirAsiaSupport\n",
      "AirbnbHelp\n",
      "AlaskaAir\n",
      "AldiUK\n",
      "AmazonHelp\n",
      "AmericanAir\n",
      "AppleSupport\n",
      "ArbysCares\n",
      "ArgosHelpers\n",
      "AskAmex\n",
      "AskCiti\n",
      "AskDSC\n",
      "AskLyft\n",
      "AskPapaJohns\n",
      "AskPayPal\n",
      "AskPlayStation\n",
      "AskRBC\n",
      "AskRobinhood\n",
      "AskSeagate\n",
      "AskTarget\n",
      "AskTigogh\n",
      "AskVirginMoney\n",
      "Ask_Spectrum\n",
      "Ask_WellsFargo\n",
      "AskeBay\n",
      "AsurionCares\n",
      "AzureSupport\n",
      "BofA_Help\n",
      "BoostCare\n",
      "British_Airways\n",
      "CarlsJr\n",
      "CenturyLinkHelp\n",
      "ChaseSupport\n",
      "ChipotleTweets\n",
      "CoxHelp\n",
      "DellCares\n",
      "Delta\n",
      "DoorDash_Help\n",
      "DropboxSupport\n",
      "DunkinDonuts\n",
      "GWRHelp\n",
      "GloCare\n",
      "GoDaddyHelp\n",
      "GooglePlayMusic\n",
      "GreggsOfficial\n",
      "HPSupport\n",
      "HiltonHelp\n",
      "HotelTonightCX\n",
      "IHGService\n",
      "JackBox\n",
      "JetBlue\n",
      "KFC_UKI_Help\n",
      "KeyBank_Help\n",
      "Kimpton\n",
      "LondonMidland\n",
      "MOO\n",
      "MTNC_Care\n",
      "McDonalds\n",
      "MicrosoftHelps\n",
      "Morrisons\n",
      "NeweggService\n",
      "NikeSupport\n",
      "NortonSupport\n",
      "O2\n",
      "OPPOCareIN\n",
      "OfficeSupport\n",
      "PandoraSupport\n",
      "PearsonSupport\n",
      "Postmates_Help\n",
      "SCsupport\n",
      "SW_Help\n",
      "Safaricom_Care\n",
      "SouthwestAir\n",
      "SpotifyCares\n",
      "TMobileHelp\n",
      "TacoBellTeam\n",
      "Tesco\n",
      "TfL\n",
      "TwitterSupport\n",
      "UPSHelp\n",
      "USCellularCares\n",
      "Uber_Support\n",
      "VMUcare\n",
      "VerizonSupport\n",
      "VirginAmerica\n",
      "VirginAtlantic\n",
      "VirginTrains\n",
      "Walmart\n",
      "XboxSupport\n",
      "YahooCare\n",
      "airtel_care\n",
      "ask_progressive\n",
      "askpanera\n",
      "asksalesforce\n",
      "askvisa\n",
      "comcastcares\n",
      "hulu_support\n",
      "idea_cares\n",
      "marksandspencer\n",
      "mediatemplehelp\n",
      "nationalrailenq\n",
      "sainsburys\n",
      "sizehelpteam\n",
      "sprintcare\n"
     ]
    }
   ],
   "source": [
    "companies = twitter.author_id.unique()\n",
    "companies = [company for company in companies if company[0].isalpha()]\n",
    "companies = sorted(companies)\n",
    "for company in companies:\n",
    "    print(company)"
   ]
  },
  {
   "cell_type": "code",
   "execution_count": 5,
   "metadata": {},
   "outputs": [],
   "source": [
    "relevant_posts = twitter[twitter['author_id'].str.contains('', regex=False)]"
   ]
  },
  {
   "cell_type": "code",
   "execution_count": 27,
   "metadata": {},
   "outputs": [
    {
     "data": {
      "text/plain": [
       "113.88970735201336"
      ]
     },
     "execution_count": 27,
     "metadata": {},
     "output_type": "execute_result"
    }
   ],
   "source": [
    "twitter.text.str.len().mean()"
   ]
  },
  {
   "cell_type": "code",
   "execution_count": 19,
   "metadata": {},
   "outputs": [
    {
     "name": "stdout",
     "output_type": "stream",
     "text": [
      "(369, 7)\n"
     ]
    }
   ],
   "source": [
    "tweet_ids = twitter[(twitter['author_id'] == 'AWSSupport')]['tweet_id']\n",
    "\n",
    "client_requests = twitter[twitter['in_response_to_tweet_id'].isin(tweet_ids)]\n"
   ]
  },
  {
   "cell_type": "code",
   "execution_count": 8,
   "metadata": {},
   "outputs": [
    {
     "name": "stdout",
     "output_type": "stream",
     "text": [
      "@AWSSupport I'm unable to post a message due to: https://t.co/RgTnkBQEPg :) I will try again later.\n",
      "\n",
      "@AWSSupport No way around it? You're locking a customer out... I deny the usage due to unnecessary non-fair trade and burden on poor in China and Africa\n",
      "\n",
      "@AWSSupport Does that number of subscription limit to topic add up every time we make call using same topic name or for a single request?\n",
      "\n",
      "@AWSSupport Thank you, I didn't even knew about such limit on topic. That was well hidden in documentation to get noticed.\n",
      "\n",
      "@AWSSupport it was on my side. my docker server was acting badly\n",
      "\n",
      "@AWSSupport This didnt help. Site is still down &amp; I'm losing $. Need to talk 2 a human who will fix. Pls email __email__. Not a \"noreply\" email\n",
      "\n",
      "@AWSSupport @160802 I thought this wud be a main feature. That's a #fail if it isn't. 1st things 1st. Save the trees.\n",
      "\n",
      "@AWSSupport Any news on this subject?\n",
      "\n",
      "@AWSSupport Typo in VPC Setup wizard. VPC With a Single Public Subnet says instances run in a private,isolated section. Shouldn’t that be “public”?\n",
      "\n",
      "@AWSSupport Reached out through support center hours ago... ticket remains unassigned\n",
      "\n",
      "@AWSSupport @194668 Please consider my vote too. If you need votes just put up a vote on twitter and you will get the approximate number...\n",
      "\n",
      "@AWSSupport Sent a form on Wednesday.  No reply. Terrible service. Have been told I have my order has been cancelled and it is processing from the same CS rep! I'll just charge back everything and let my bank deal with you.\n",
      "\n",
      "@AWSSupport Too late\n",
      "\n",
      "@AWSSupport this is very bad. I am literally getting no assistance from you guys and  i have been locked out of my account\n",
      "\n",
      "@AWSSupport Eventually it will say “failed CAA”, but I don’t have any CAA records on my domain.\n",
      "\n",
      "@AWSSupport Hi! I’m have been unable to contact education for an exam refund. I filled the contact form but I get no answer.\n",
      "\n",
      "@AWSSupport I'm just curious\n",
      "\n",
      "@AWSSupport except my 2FA device isn’t lost or broken. I set it up just yesterday.\n",
      "\n",
      "@AWSSupport When I tried \"Having problems with your authentication device?\" link, it shows my username as \"null\" and not able proceed further. https://t.co/gBRjc1gCbJ\n",
      "\n",
      "@AWSSupport I'd rather not post using a corporate account - is there any other way I can get an answer ?\n",
      "\n",
      "@AWSSupport I submitted a query. But no response for a few days now. I am reaching my renewal date. Is there a number I can call?\n",
      "\n",
      "@AWSSupport Doesn't help I'm afraid. I just need an IP I can use as an A record on DNS\n",
      "\n",
      "@AWSSupport Sorry that is not what am looking for\n",
      "\n",
      "@AWSSupport We have premium support, but since support not working I reached you here, other AWS customers can be having problems.\n",
      "\n",
      "@AWSSupport Guys, we disabled WAF in front of ALB and 500 errors resolved, activating it back results in 500 errors , it is not related with ALB but WAF\n",
      "\n",
      "@AWSSupport The red error box on Support center has fooled us today, it is telling that some services... but since it is so red,I thought it is all down\n",
      "\n",
      "@AWSSupport \"If you recently activated your account, you might not be able to post messages for a few hours\" is quite an annoying thing...\n",
      "\n",
      "@AWSSupport i get this message after i clicked the link 400 Bad Request\n",
      "\n",
      "Request Header Or Cookie Too Large\n",
      "Server\n",
      "\n",
      "@AWSSupport Hi ES, thanks for the response. I’d love to open a case, but I’m unable to logon to my account :-(\n",
      "\n",
      "@AWSSupport Hi ES, yay yay and thrice yay, not sure how you did it, but we’re back in the AWS game. Thank you SO much, and likewise to your AWSome team!\n",
      "\n",
      "@AWSSupport It's working now. I'm not sure what was going on before. I'll comment in the support.\n",
      "\n",
      "@AWSSupport I’m curious how you linked my twitter account to that email. That’s one of many client accounts I have and in this case, the wrong one.\n",
      "\n",
      "@AWSSupport There is nowhere on the login page or site which points to this, and further no assistance offered for failed logins 2/2\n",
      "\n",
      "@AWSSupport Ya I found that after I️ sent this tweet.  Find his information was difficult (which I️ am guessing is by design) #frustrated 1/2\n",
      "\n",
      "@AWSSupport Of course i tried different browser, cleared the caches. It is not a problem on the side of me, but ISP or you. \n",
      "It still persists. Here a few screenshots: https://t.co/DPIqSb6Zyc\n",
      "\n",
      "@AWSSupport Im looking at that link &amp; its showing that I have to be in school or college in order to apply for the education version of AWS.\n",
      "Seriously.?\n",
      "\n",
      "@AWSSupport @115821 - sorry,\n",
      "I cant do that either, just to practice &amp; learn.\n",
      "Im not planning on getting surprised with a $800 bill, just to learn\n",
      "\n",
      "@AWSSupport I just want you to realize that this is damaging to your business. If it's a common occurrence to warrant this page existing then it's a systemic problem. Consider adding text-message based verification option.\n",
      "\n",
      "@AWSSupport Implement sustained use discount the way Google Compute Engine does, there is nothing more to add https://t.co/vjFI2s8vK2 (PS I don't want to use those terrible forums)\n",
      "\n",
      "@AWSSupport But, I'm just a poor college student trying to host my senior database project ;_; 😭😭😭😭😭😭😭😭\n",
      "\n",
      "@AWSSupport :( Says I have an invalid referral token when I try to sign up.\n",
      "\n",
      "@AWSSupport I believe I have tried these methods but it's an empty bucket created from Elastic Beanstalk.\n",
      "\n",
      "@AWSSupport seems related to a single windows desktop unable to resolve addres from DNS. firewall? NAT? other?  we have a workaround. Thanks for offer.\n",
      "\n",
      "@AWSSupport Thanks for this.\n",
      "Contacted them. Their frequency of replying is quite slow which is not the case with the supports. I got a reply after 5 days.\n",
      "\n",
      "@AWSSupport Because it's so difficult to configure securely, I'm abandoning S3 for this use case. All those public S3 buckets?  It's because your interface makes it too difficult.\n",
      "\n",
      "@AWSSupport Thank you for the response. I would appreciate if you could dive a bit deeper into this issue, as the circular messages are a problem on your end. My client has received this error for several days now, and is unable to contact you because the account is not yet confirmed.\n",
      "\n",
      "@AWSSupport I did. Wasn’t very helpful, unfortunately. They didn’t understand the question and pointed me to the Mirage to take an exam. 😕\n",
      "\n",
      "@AWSSupport Doesn't help with today's mess at all.\n",
      "\n",
      "@AWSSupport @809131 It's limited preview. The link in the console should take you to the marketing page. Follow the steps to request access. This isn't region related.\n",
      "\n",
      "@AWSSupport Sadly this has been work in progress for years, but I guess eventually it will come 🙏🏻 Can't wait to try Aurora\n",
      "\n",
      "@AWSSupport Hi AWS Support, I tried create the ticket but do not have Phone option.\n",
      ":(\n",
      "\n"
     ]
    }
   ],
   "source": [
    "for idx, row in client_requests.iterrows():\n",
    "    analysis = TextBlob(row['text'])\n",
    "    if(analysis.sentiment.polarity < 0):\n",
    "        print(analysis)\n",
    "        print()"
   ]
  },
  {
   "cell_type": "code",
   "execution_count": 9,
   "metadata": {},
   "outputs": [],
   "source": [
    "corpus = textacy.corpus.Corpus('en_core_web_sm')\n",
    "\n",
    "for idx, row in client_requests.iterrows():\n",
    "    analysis = TextBlob(row['text'])\n",
    "    if(analysis.sentiment.polarity < -0.0):\n",
    "        corpus.add_text(row['text'])\n",
    "        #print(analysis)\n",
    "        #key_terms.append(textacy.keyterms.textrank(doc, normalize='lemma', n_keyterms=5))"
   ]
  },
  {
   "cell_type": "code",
   "execution_count": null,
   "metadata": {},
   "outputs": [],
   "source": [
    "vectorizer = textacy.Vectorizer(\n",
    "    tf_type='linear', \n",
    "    apply_idf=True, \n",
    "    idf_type='smooth', \n",
    "    norm='l2',min_df=2, max_df=0.95)\n",
    "\n",
    "doc_term_matrix = vectorizer.fit_transform(\n",
    "    (doc.to_terms_list(\n",
    "        ngrams=1, named_entities=True, \n",
    "        as_strings=True) for doc in corpus)\n",
    "    )"
   ]
  },
  {
   "cell_type": "code",
   "execution_count": null,
   "metadata": {},
   "outputs": [],
   "source": [
    "model = textacy.TopicModel('nmf', n_topics=5)\n",
    "model.fit(doc_term_matrix)\n",
    "doc_topic_matrix = model.transform(doc_term_matrix)"
   ]
  },
  {
   "cell_type": "code",
   "execution_count": null,
   "metadata": {},
   "outputs": [],
   "source": [
    "for topic_idx, top_terms in model.top_topic_terms(vectorizer.id_to_term, top_n=10):\n",
    "    print('topic', topic_idx, ':', '   '.join(top_terms))"
   ]
  },
  {
   "cell_type": "code",
   "execution_count": 517,
   "metadata": {},
   "outputs": [
    {
     "name": "stdout",
     "output_type": "stream",
     "text": [
      "Data shape: (794299, 14)\n"
     ]
    }
   ],
   "source": [
    "first_inbound = twitter[pd.isnull(twitter.in_response_to_tweet_id) & twitter.inbound]\n",
    "\n",
    "QnR = pd.merge(first_inbound, twitter, left_on='tweet_id', \n",
    "                                  right_on='in_response_to_tweet_id')\n",
    "\n",
    "# Filter to only outbound replies (from companies)\n",
    "QnR = QnR[QnR.inbound_y ^ True]\n",
    "print(f'Data shape: {QnR.shape}')"
   ]
  },
  {
   "cell_type": "code",
   "execution_count": 518,
   "metadata": {},
   "outputs": [],
   "source": [
    "#making sure the dataframe contains only the needed columns\n",
    "QnR = QnR[[\"author_id_x\",\"created_at_x\",\"text_x\",\"author_id_y\",\"created_at_y\",\"text_y\"]]"
   ]
  },
  {
   "cell_type": "code",
   "execution_count": 519,
   "metadata": {},
   "outputs": [],
   "source": [
    "azureQnR = QnR[QnR[\"author_id_y\"]==\"AzureSupport\"]\n",
    "awsQnR = QnR[QnR[\"author_id_y\"]==\"AWSSupport\"]\n",
    "\n",
    "azureQnR['created_at_y'] = pd.to_datetime(azureQnR.created_at_y)\n",
    "awsQnR['created_at_y'] = pd.to_datetime(awsQnR.created_at_y)\n",
    "\n",
    "azureQnR['delta'] =pd.to_datetime(azureQnR.created_at_y)-pd.to_datetime(azureQnR.created_at_x) \n",
    "awsQnR['delta'] = pd.to_datetime(awsQnR.created_at_y)-pd.to_datetime(awsQnR.created_at_x) \n",
    "\n",
    "azureQnR = azureQnR[azureQnR['created_at_y'] > pd.Timestamp(2017,9,1)]\n",
    "awsQnR = awsQnR[awsQnR['created_at_y'] > pd.Timestamp(2017,9,1)]"
   ]
  },
  {
   "cell_type": "code",
   "execution_count": 503,
   "metadata": {},
   "outputs": [
    {
     "name": "stdout",
     "output_type": "stream",
     "text": [
      "(758, 7)\n",
      "AWS min: 12.133333333333333\n",
      "AWS mean: 1534.7575857519666\n",
      "AWS median: 148.91666666666666\n",
      "AWS 0.75 quant: 262.22083333333336\n",
      "AWS 0.9 quant: 522.625\n",
      "(3544, 7)\n",
      "Azure min: 0.03333333333333333\n",
      "Azure mean: 429.6829053799833\n",
      "Azure median: 2.8666666666666667\n",
      "Azure 0.75 quant: 5.15\n",
      "Azure 0.9 quant: 26.249999999983334\n"
     ]
    },
    {
     "data": {
      "image/png": "[encoded data removed]",
      "text/plain": [
       "<matplotlib.figure.Figure at 0x1b22ac3ac8>"
      ]
     },
     "metadata": {},
     "output_type": "display_data"
    },
    {
     "data": {
      "text/plain": [
       "created_at_y\n",
       "2017-09-30   1 days 17:20:50.972972\n",
       "2017-10-31   0 days 21:06:26.901197\n",
       "2017-11-30   1 days 06:31:39.255014\n",
       "2017-12-31   0 days 04:05:05.894736\n",
       "Freq: M, Name: delta, dtype: timedelta64[ns]"
      ]
     },
     "execution_count": 503,
     "metadata": {},
     "output_type": "execute_result"
    }
   ],
   "source": [
    "azureDelta = azureQnR['delta'] \n",
    "awsDelta = awsQnR['delta']\n",
    "\n",
    "awsQnR.index = awsQnR['created_at_y']\n",
    "azureQnR.index = azureQnR['created_at_y']\n",
    "\n",
    "td_h = np.timedelta64(1, 'm')\n",
    "\n",
    "aws_mean = awsDelta.mean()/ td_h\n",
    "aws_min = awsDelta.min()/ td_h\n",
    "aws_max = awsDelta.max()/ td_h\n",
    "aws_median = awsDelta.median()/ td_h\n",
    "aws_075q = awsDelta.quantile(0.75)/ td_h\n",
    "aws_025q = awsDelta.quantile(0.25)/ td_h\n",
    "aws_01q = awsDelta.quantile(0.1)/ td_h\n",
    "aws_08q = awsDelta.quantile(0.8)/ td_h\n",
    "\n",
    "azure_mean = azureDelta.mean()/ td_h\n",
    "azure_min = azureDelta.min()/ td_h\n",
    "azure_max = azureDelta.max()/ td_h\n",
    "azure_median = azureDelta.median()/ td_h\n",
    "azure_075q = azureDelta.quantile(0.75)/ td_h\n",
    "azure_025q = azureDelta.quantile(0.25)/ td_h\n",
    "azure_01q = azureDelta.quantile(0.1)/ td_h\n",
    "azure_08q = azureDelta.quantile(0.8)/ td_h\n",
    "\n",
    "print(awsQnR.shape)\n",
    "print(\"AWS min:\",aws_min)\n",
    "print(\"AWS mean:\",aws_mean)\n",
    "print(\"AWS median:\",aws_median)\n",
    "print(\"AWS 0.75 quant:\",aws_075q)\n",
    "print(\"AWS 0.9 quant:\",aws_09q)\n",
    "      \n",
    "print(azureQnR.shape)\n",
    "print(\"Azure min:\", azure_min)\n",
    "print(\"Azure mean:\",azure_mean)\n",
    "print(\"Azure median:\",azure_median)\n",
    "print(\"Azure 0.75 quant:\",azure_075q)\n",
    "print(\"Azure 0.9 quant:\",azure_09q)\n",
    "\n",
    "boxdf_both = pd.DataFrame([[aws_025q,azure_025q],[aws_median,azure_median],[aws_075q,azure_075q]], columns=['AWS', 'Azure'])\n",
    "boxdf_aws = pd.DataFrame([[aws_min],[aws_025q],[aws_median],[aws_075q], [aws_08q]], columns=['AWS'])\n",
    "boxdf_azure = pd.DataFrame([[azure_min],[azure_025q],[azure_median],[azure_075q],[azure_08q]], columns=['Azure'])\n",
    "\n",
    "#boxplot_aws = boxdf_aws.boxplot(column=['AWS'], showfliers=False)\n",
    "#boxplot_aws_fig = boxplot_aws.get_figure()\n",
    "#boxplot_aws_fig.savefig(\"AWS_barplot.png\")\n",
    "\n",
    "#boxplot_azure = boxdf_azure.boxplot(column=['Azure'], showfliers=False)\n",
    "#boxplot_azure_fig = boxplot_azure.get_figure()\n",
    "#boxplot_azure_fig.savefig(\"Azure_barplot.png\")\n",
    "\n",
    "fig, axes = plt.subplots(nrows=1, ncols=2, figsize=(8,4)) \n",
    "plt.subplots_adjust(right=1.1)\n",
    "\n",
    "boxdf_azure.boxplot(column=['Azure'], showfliers=True, ax=axes[0], showmeans=False, meanline=False)\n",
    "boxdf_aws.boxplot(column=['AWS'], showfliers=True, ax=axes[1], showmeans=False, meanline=False)\n",
    "\n",
    "axes[0].set_ylim([0,10])\n",
    "axes[0].set_ylabel('Antwortzeit in Minuten')\n",
    "axes[1].set_ylim([0,350])\n",
    "axes[1].set_ylabel('Antwortzeit in Minuten')\n",
    "\n",
    "plt.show()\n",
    "\n",
    "azureQnR.groupby(pd.Grouper(freq='M'))['delta'].mean(numeric_only=False)\n",
    "awsQnR.groupby(pd.Grouper(freq='M'))['delta'].mean(numeric_only=False)\n"
   ]
  },
  {
   "cell_type": "code",
   "execution_count": null,
   "metadata": {},
   "outputs": [],
   "source": []
  },
  {
   "cell_type": "code",
   "execution_count": 411,
   "metadata": {},
   "outputs": [
    {
     "data": {
      "image/png": "[encoded data removed]",
      "text/plain": [
       "<matplotlib.figure.Figure at 0x1a89dcb390>"
      ]
     },
     "metadata": {},
     "output_type": "display_data"
    },
    {
     "name": "stdout",
     "output_type": "stream",
     "text": [
      "124.0\n",
      "103.0\n",
      "121.0\n",
      "128.5\n"
     ]
    },
    {
     "data": {
      "text/plain": [
       "<matplotlib.axes._subplots.AxesSubplot at 0x1a89fb37f0>"
      ]
     },
     "execution_count": 411,
     "metadata": {},
     "output_type": "execute_result"
    },
    {
     "data": {
      "image/png": "[encoded data removed]",
      "text/plain": [
       "<matplotlib.figure.Figure at 0x1a89fca860>"
      ]
     },
     "metadata": {},
     "output_type": "display_data"
    }
   ],
   "source": [
    "az_x = azureQnR.text_x.str.len()\n",
    "az_y = azureQnR.text_y.str.len()\n",
    "aw_x = awsQnR.text_x.str.len()\n",
    "aw_y = awsQnR.text_y.str.len()\n",
    "\n",
    "az_x_box = [az_x.min(), az_x.quantile(0.25), az_x.median(), az_x.quantile(0.65), az_x.quantile(0.75)]\n",
    "az_y_box = [az_y.min(), az_y.quantile(0.25), az_y.median(), az_y.quantile(0.65), az_y.quantile(0.75)]\n",
    "aw_x_box = [aw_x.min(), aw_x.quantile(0.25), aw_x.median(), aw_x.quantile(0.65), aw_x.quantile(0.75)]\n",
    "aw_y_box = [aw_y.min(), aw_y.quantile(0.25), aw_y.median(), aw_y.quantile(0.65), aw_y.quantile(0.75)]\n",
    "\n",
    "boxdf_aws_x = pd.DataFrame(aw_x_box, columns=['AWS: Länge der Kundenfragen'])\n",
    "boxdf_azure_x = pd.DataFrame(az_x_box, columns=['Azure: Länge der Kundenfragen'])\n",
    "\n",
    "boxdf_aws_y = pd.DataFrame(aw_y_box, columns=['AWS: Länge der Antworten'])\n",
    "boxdf_azure_y = pd.DataFrame(az_y_box, columns=['Azure: Länge der Antworten'])\n",
    "\n",
    "fig, axes = plt.subplots(nrows=2, ncols=2, figsize=(8,8)) # create 2x2 array of subplots\n",
    "\n",
    "boxdf_azure_x.boxplot(column=['Azure: Länge der Kundenfragen'], ax=axes[0,0], showmeans=True, meanline=True) # add boxplot to 1st subplot\n",
    "boxdf_azure_y.boxplot(column=['Azure: Länge der Antworten'], ax=axes[1,0], showmeans=True, meanline=True)# add boxplot to 2nd subplot\n",
    "boxdf_aws_x.boxplot(column=['AWS: Länge der Kundenfragen'], ax=axes[0,1], showmeans=True, meanline=True) # add boxplot to 1st subplot\n",
    "boxdf_aws_y.boxplot(column=['AWS: Länge der Antworten'], ax=axes[1,1], showmeans=True, meanline=True)# add boxplot to 2nd subplot\n",
    "# etc.\n",
    "\n",
    "axes[0,0].set_ylim([0,150])\n",
    "axes[0,0].set_ylabel('Anzahl der Zeichen')\n",
    "axes[0,1].set_ylim([0,150])\n",
    "axes[0,1].set_ylabel('Anzahl der Zeichen')\n",
    "axes[1,0].set_ylim([0,150])\n",
    "axes[1,0].set_ylabel('Anzahl der Zeichen')\n",
    "axes[1,1].set_ylim([0,150])\n",
    "axes[1,1].set_ylabel('Anzahl der Zeichen')\n",
    "\n",
    "plt.show()\n",
    "\n",
    "print(az_x_box[2])\n",
    "print(az_y_box[2])\n",
    "print(aw_x_box[2])\n",
    "print(aw_y_box[2])\n",
    "az_y.plot.hist(bins=20)\n",
    "aw_y.plot.hist(bins=20)"
   ]
  },
  {
   "cell_type": "code",
   "execution_count": 385,
   "metadata": {},
   "outputs": [
    {
     "name": "stdout",
     "output_type": "stream",
     "text": [
      "Q: 120.63436123348018\n",
      "A: 105.35404590772085\n"
     ]
    },
    {
     "data": {
      "text/html": [
       "<div>\n",
       "<style scoped>\n",
       "    .dataframe tbody tr th:only-of-type {\n",
       "        vertical-align: middle;\n",
       "    }\n",
       "\n",
       "    .dataframe tbody tr th {\n",
       "        vertical-align: top;\n",
       "    }\n",
       "\n",
       "    .dataframe thead th {\n",
       "        text-align: right;\n",
       "    }\n",
       "</style>\n",
       "<table border=\"1\" class=\"dataframe\">\n",
       "  <thead>\n",
       "    <tr style=\"text-align: right;\">\n",
       "      <th></th>\n",
       "      <th>author_id_x</th>\n",
       "      <th>created_at_x</th>\n",
       "      <th>text_x</th>\n",
       "      <th>author_id_y</th>\n",
       "      <th>created_at_y</th>\n",
       "      <th>text_y</th>\n",
       "    </tr>\n",
       "  </thead>\n",
       "  <tbody>\n",
       "    <tr>\n",
       "      <th>count</th>\n",
       "      <td>4313</td>\n",
       "      <td>4313</td>\n",
       "      <td>4313</td>\n",
       "      <td>4313</td>\n",
       "      <td>4313</td>\n",
       "      <td>4313</td>\n",
       "    </tr>\n",
       "    <tr>\n",
       "      <th>unique</th>\n",
       "      <td>3242</td>\n",
       "      <td>3792</td>\n",
       "      <td>3537</td>\n",
       "      <td>2</td>\n",
       "      <td>4303</td>\n",
       "      <td>4307</td>\n",
       "    </tr>\n",
       "    <tr>\n",
       "      <th>top</th>\n",
       "      <td>171988</td>\n",
       "      <td>Sat Oct 21 12:30:16 +0000 2017</td>\n",
       "      <td>@azuresupport #azTechHelp</td>\n",
       "      <td>AzureSupport</td>\n",
       "      <td>Thu Nov 16 21:48:38 +0000 2017</td>\n",
       "      <td>@337024 Hello, do you still have access to the...</td>\n",
       "    </tr>\n",
       "    <tr>\n",
       "      <th>freq</th>\n",
       "      <td>9</td>\n",
       "      <td>4</td>\n",
       "      <td>187</td>\n",
       "      <td>3549</td>\n",
       "      <td>2</td>\n",
       "      <td>2</td>\n",
       "    </tr>\n",
       "  </tbody>\n",
       "</table>\n",
       "</div>"
      ],
      "text/plain": [
       "       author_id_x                    created_at_x                     text_x  \\\n",
       "count         4313                            4313                       4313   \n",
       "unique        3242                            3792                       3537   \n",
       "top         171988  Sat Oct 21 12:30:16 +0000 2017  @azuresupport #azTechHelp   \n",
       "freq             9                               4                        187   \n",
       "\n",
       "         author_id_y                    created_at_y  \\\n",
       "count           4313                            4313   \n",
       "unique             2                            4303   \n",
       "top     AzureSupport  Thu Nov 16 21:48:38 +0000 2017   \n",
       "freq            3549                               2   \n",
       "\n",
       "                                                   text_y  \n",
       "count                                                4313  \n",
       "unique                                               4307  \n",
       "top     @337024 Hello, do you still have access to the...  \n",
       "freq                                                    2  "
      ]
     },
     "execution_count": 385,
     "metadata": {},
     "output_type": "execute_result"
    }
   ],
   "source": [
    "cloudProviderQnR = QnR[(QnR[\"author_id_y\"]==\"AzureSupport\")|(QnR[\"author_id_y\"]==\"AWSSupport\")] \n",
    "print(\"Q:\",cloudProviderQnR.text_x.str.len().mean())\n",
    "print(\"A:\",cloudProviderQnR.text_y.str.len().mean())\n",
    "cloudProviderQnR.describe()"
   ]
  },
  {
   "cell_type": "code",
   "execution_count": 248,
   "metadata": {},
   "outputs": [
    {
     "data": {
      "text/html": [
       "<div>\n",
       "<style scoped>\n",
       "    .dataframe tbody tr th:only-of-type {\n",
       "        vertical-align: middle;\n",
       "    }\n",
       "\n",
       "    .dataframe tbody tr th {\n",
       "        vertical-align: top;\n",
       "    }\n",
       "\n",
       "    .dataframe thead th {\n",
       "        text-align: right;\n",
       "    }\n",
       "</style>\n",
       "<table border=\"1\" class=\"dataframe\">\n",
       "  <thead>\n",
       "    <tr style=\"text-align: right;\">\n",
       "      <th></th>\n",
       "      <th>Fragesteller</th>\n",
       "      <th>Zeitstempel Frage</th>\n",
       "      <th>Fragetext</th>\n",
       "      <th>Antwortgeber</th>\n",
       "      <th>Zeitstempel Antwort</th>\n",
       "      <th>Antworttext</th>\n",
       "    </tr>\n",
       "  </thead>\n",
       "  <tbody>\n",
       "    <tr>\n",
       "      <th>771294</th>\n",
       "      <td>23873</td>\n",
       "      <td>17.11.2017 22:00:12</td>\n",
       "      <td>@AzureSupport \\n\\nSee - https://t.co/HMtuOPiIi...</td>\n",
       "      <td>AzureSupport</td>\n",
       "      <td>17.11.2017 22:10:13</td>\n",
       "      <td>@23873 Thank you. We have alerted the team to ...</td>\n",
       "    </tr>\n",
       "    <tr>\n",
       "      <th>363020</th>\n",
       "      <td>428432</td>\n",
       "      <td>27.10.2017 08:48:51</td>\n",
       "      <td>@azuresupport #azTechHelp Why I can't see unde...</td>\n",
       "      <td>AzureSupport</td>\n",
       "      <td>27.10.2017 08:50:51</td>\n",
       "      <td>@428432 Would these be VMs that were recently ...</td>\n",
       "    </tr>\n",
       "    <tr>\n",
       "      <th>376951</th>\n",
       "      <td>439405</td>\n",
       "      <td>19.09.2017 09:42:25</td>\n",
       "      <td>@azuresupport #azTechHelp Hello,I would like a...</td>\n",
       "      <td>AzureSupport</td>\n",
       "      <td>22.09.2017 04:04:46</td>\n",
       "      <td>@439405 Was the documentation helpful that we ...</td>\n",
       "    </tr>\n",
       "    <tr>\n",
       "      <th>870124</th>\n",
       "      <td>819889</td>\n",
       "      <td>30.11.2017 01:34:56</td>\n",
       "      <td>@61186 @AzureSupport I'm trying to reach Azure...</td>\n",
       "      <td>AzureSupport</td>\n",
       "      <td>30.11.2017 01:36:44</td>\n",
       "      <td>@819889 Hi there. We recommend filing a free b...</td>\n",
       "    </tr>\n",
       "    <tr>\n",
       "      <th>191215</th>\n",
       "      <td>289367</td>\n",
       "      <td>10.10.2017 19:58:44</td>\n",
       "      <td>@azuresupport #azTechHelp COMO FAÇO UMA COPIA ...</td>\n",
       "      <td>AzureSupport</td>\n",
       "      <td>13.10.2017 04:44:37</td>\n",
       "      <td>@289367 Hey, just checking to see if you were ...</td>\n",
       "    </tr>\n",
       "  </tbody>\n",
       "</table>\n",
       "</div>"
      ],
      "text/plain": [
       "       Fragesteller    Zeitstempel Frage  \\\n",
       "771294        23873  17.11.2017 22:00:12   \n",
       "363020       428432  27.10.2017 08:48:51   \n",
       "376951       439405  19.09.2017 09:42:25   \n",
       "870124       819889  30.11.2017 01:34:56   \n",
       "191215       289367  10.10.2017 19:58:44   \n",
       "\n",
       "                                                Fragetext  Antwortgeber  \\\n",
       "771294  @AzureSupport \\n\\nSee - https://t.co/HMtuOPiIi...  AzureSupport   \n",
       "363020  @azuresupport #azTechHelp Why I can't see unde...  AzureSupport   \n",
       "376951  @azuresupport #azTechHelp Hello,I would like a...  AzureSupport   \n",
       "870124  @61186 @AzureSupport I'm trying to reach Azure...  AzureSupport   \n",
       "191215  @azuresupport #azTechHelp COMO FAÇO UMA COPIA ...  AzureSupport   \n",
       "\n",
       "        Zeitstempel Antwort                                        Antworttext  \n",
       "771294  17.11.2017 22:10:13  @23873 Thank you. We have alerted the team to ...  \n",
       "363020  27.10.2017 08:50:51  @428432 Would these be VMs that were recently ...  \n",
       "376951  22.09.2017 04:04:46  @439405 Was the documentation helpful that we ...  \n",
       "870124  30.11.2017 01:36:44  @819889 Hi there. We recommend filing a free b...  \n",
       "191215  13.10.2017 04:44:37  @289367 Hey, just checking to see if you were ...  "
      ]
     },
     "execution_count": 248,
     "metadata": {},
     "output_type": "execute_result"
    }
   ],
   "source": [
    "cloudProviderQnR_head = cloudProviderQnR.sample(5)\n",
    "cloudProviderQnR_head = cloudProviderQnR_head[[\"author_id_x\",\"created_at_x\",\"text_x\",\"author_id_y\",\"created_at_y\",\"text_y\"]]\n",
    "cloudProviderQnR_head = cloudProviderQnR_head.rename(index=str, columns={\"author_id_x\": \"Fragesteller\",\"created_at_x\":\"Zeitstempel Frage\",\"text_x\": \"Fragetext\",\n",
    " \"author_id_y\": \"Antwortgeber\",\"created_at_y\":\"Zeitstempel Antwort\",\"text_y\": \"Antworttext\"})\n",
    "cloudProviderQnR_head['Zeitstempel Frage']= pd.to_datetime(cloudProviderQnR_head['Zeitstempel Frage']).dt.strftime('%d.%m.%Y %H:%M:%S')\n",
    "cloudProviderQnR_head['Zeitstempel Antwort']= pd.to_datetime(cloudProviderQnR_head['Zeitstempel Antwort']).dt.strftime('%d.%m.%Y %H:%M:%S')\n",
    "cloudProviderQnR_head.head()\n"
   ]
  },
  {
   "cell_type": "code",
   "execution_count": 520,
   "metadata": {},
   "outputs": [],
   "source": [
    "twitter_specific_stopwords = ['para','como','it’s','e\\.g\\.','i\\.e\\.','gt;','[a-z]+’[a-z]+', '[0-9]+', '[\\-/#_$]','[ ][A-Za-z0-9]{1,3}[ ]','[a-z]+\\'[a-zA-Z]+', 'amp\\;', '\\@[0-9a-zA-Z]+' ,'\\+', '&', '\\'[a-z]+','\\^[A-Za-z]+','(http|https|ftp)\\://([a-zA-Z0-9\\-\\.]+\\.+[a-zA-Z]{2,3})(:[a-zA-Z0-9]*)?/?([a-zA-Z0-9\\-\\._\\?\\,\\'/\\\\\\+&amp;%\\$#\\=~]*)[^\\.\\,\\)\\(\\s]?']"
   ]
  },
  {
   "cell_type": "code",
   "execution_count": 521,
   "metadata": {},
   "outputs": [],
   "source": [
    "spacy_stopwords = spacy.lang.en.stop_words.STOP_WORDS\n",
    "stopword_list = []\n",
    "with open(\"stopwords-1.txt\", \"r\") as f:\n",
    "    stopword_list = stopword_list + f.read().split(',')\n",
    "    \n",
    "with open(\"stopwords-2.txt\", \"r\") as f:\n",
    "    stopword_list = stopword_list + f.read().split(',')\n",
    "    \n",
    "with open(\"stopwords-3.txt\", \"r\") as f:\n",
    "    stopword_list = stopword_list + f.read().split(',')"
   ]
  },
  {
   "cell_type": "code",
   "execution_count": 522,
   "metadata": {},
   "outputs": [],
   "source": [
    "stop = stopwords.words('english') + list(spacy.lang.en.stop_words.STOP_WORDS) + stopword_list"
   ]
  },
  {
   "cell_type": "code",
   "execution_count": 523,
   "metadata": {},
   "outputs": [],
   "source": [
    "cloudProviderQnR[\"text_y\"] = cloudProviderQnR[\"text_y\"].str.lower()  \n",
    "#big_regex = re.compile(' | '.join(stop))\n",
    "other_regex = re.compile('|'.join(twitter_specific_stopwords))\n",
    "cloudProviderQnR[\"text_y\"] = cloudProviderQnR[\"text_y\"].apply(lambda x: other_regex.sub(\" \",x))\n",
    "#cloudProviderQnR[\"text_y\"] = cloudProviderQnR[\"text_y\"].apply(lambda x: big_regex.sub(\" \",x))\n",
    "#cloudProviderQnR[\"text_y\"].head()"
   ]
  },
  {
   "cell_type": "code",
   "execution_count": 524,
   "metadata": {},
   "outputs": [],
   "source": [
    "cloudProviderQnR[\"text_x\"] = cloudProviderQnR[\"text_x\"].str.lower()  \n",
    "#big_regex = re.compile(' | '.join(stop))\n",
    "other_regex = re.compile('|'.join(twitter_specific_stopwords))\n",
    "cloudProviderQnR[\"text_x\"] = cloudProviderQnR[\"text_x\"].apply(lambda x: other_regex.sub(\" \",x))\n",
    "#cloudProviderQnR[\"text_x\"] = cloudProviderQnR[\"text_x\"].apply(lambda x: big_regex.sub(\" \",x))\n",
    "#cloudProviderQnR[\"text_x\"].head()"
   ]
  },
  {
   "cell_type": "code",
   "execution_count": 525,
   "metadata": {},
   "outputs": [
    {
     "name": "stdout",
     "output_type": "stream",
     "text": [
      "Q: 87.79758868536982\n",
      "A: 69.83654069093438\n"
     ]
    }
   ],
   "source": [
    "print(\"Q:\",cloudProviderQnR.text_x.str.len().mean())\n",
    "print(\"A:\",cloudProviderQnR.text_y.str.len().mean())"
   ]
  },
  {
   "cell_type": "code",
   "execution_count": 526,
   "metadata": {},
   "outputs": [],
   "source": [
    "cloudProviderQnR['parsed_x'] = cloudProviderQnR.text_x.apply(nlp)\n",
    "corpus_x = st.CorpusFromParsedDocuments(cloudProviderQnR,\n",
    "                             category_col='author_id_y',\n",
    "                             parsed_col='parsed_x').build().get_stoplisted_unigram_corpus_and_custom(stop)"
   ]
  },
  {
   "cell_type": "code",
   "execution_count": 527,
   "metadata": {},
   "outputs": [],
   "source": [
    "html = st.produce_scattertext_explorer(corpus_x,\n",
    "          category='AzureSupport',\n",
    "          category_name='Azure Support',\n",
    "          not_category_name='AWSSupport',\n",
    "          width_in_pixels=850,\n",
    "          minimum_term_frequency=25,\n",
    "          use_full_doc=True, \n",
    "          term_significance = st.LogOddsRatioUninformativeDirichletPrior(),\n",
    "    )"
   ]
  },
  {
   "cell_type": "code",
   "execution_count": 528,
   "metadata": {},
   "outputs": [
    {
     "data": {
      "text/html": [
       "\n",
       "        <iframe\n",
       "            width=\"850\"\n",
       "            height=\"700\"\n",
       "            src=\"azure-vs-aws_clients.html\"\n",
       "            frameborder=\"0\"\n",
       "            allowfullscreen\n",
       "        ></iframe>\n",
       "        "
      ],
      "text/plain": [
       "<IPython.lib.display.IFrame at 0x1b072614a8>"
      ]
     },
     "execution_count": 528,
     "metadata": {},
     "output_type": "execute_result"
    }
   ],
   "source": [
    "# uncomment this cell to load the interactive scattertext visualisation\n",
    "filename = \"azure-vs-aws_clients.html\"\n",
    "open(filename, 'wb').write(html.encode('utf-8'))\n",
    "IFrame(src=filename, width = 850, height=700)"
   ]
  },
  {
   "cell_type": "code",
   "execution_count": 529,
   "metadata": {},
   "outputs": [],
   "source": [
    "cloudProviderQnR['parsed_y'] = cloudProviderQnR.text_y.apply(nlp)\n",
    "corpus_y = st.CorpusFromParsedDocuments(cloudProviderQnR,\n",
    "                             category_col='author_id_y',\n",
    "                             parsed_col='parsed_y').build().get_stoplisted_unigram_corpus_and_custom(stop)"
   ]
  },
  {
   "cell_type": "code",
   "execution_count": 530,
   "metadata": {},
   "outputs": [],
   "source": [
    "html = st.produce_scattertext_explorer(corpus_y,\n",
    "          category='AzureSupport',\n",
    "          category_name='Azure Support',\n",
    "          not_category_name='AWSSupport',\n",
    "          width_in_pixels=800,\n",
    "          minimum_term_frequency=7,\n",
    "          term_significance = st.LogOddsRatioUninformativeDirichletPrior(),\n",
    "          x_label= 'AWS Support Worthäufigkeit',\n",
    "          y_label= 'Azure Support Worthäufigkeit',                             \n",
    "          )"
   ]
  },
  {
   "cell_type": "code",
   "execution_count": 531,
   "metadata": {},
   "outputs": [
    {
     "data": {
      "text/html": [
       "\n",
       "        <iframe\n",
       "            width=\"800\"\n",
       "            height=\"700\"\n",
       "            src=\"azure-vs-aws.html\"\n",
       "            frameborder=\"0\"\n",
       "            allowfullscreen\n",
       "        ></iframe>\n",
       "        "
      ],
      "text/plain": [
       "<IPython.lib.display.IFrame at 0x1b52e097b8>"
      ]
     },
     "execution_count": 531,
     "metadata": {},
     "output_type": "execute_result"
    }
   ],
   "source": [
    "# uncomment this cell to load the interactive scattertext visualisation\n",
    "filename = \"azure-vs-aws.html\"\n",
    "open(filename, 'wb').write(html.encode('utf-8'))\n",
    "IFrame(src=filename, width = 800, height=700)"
   ]
  },
  {
   "cell_type": "code",
   "execution_count": 292,
   "metadata": {},
   "outputs": [],
   "source": [
    "feat_builder = st.FeatsFromOnlyEmpath()\n",
    "empath_corpus = st.CorpusFromParsedDocuments(cloudProviderQnR,\n",
    "                                              category_col='author_id_y',\n",
    "                                              feats_from_spacy_doc=feat_builder,\n",
    "                                              parsed_col='parsed_y').build()"
   ]
  },
  {
   "cell_type": "code",
   "execution_count": 293,
   "metadata": {},
   "outputs": [],
   "source": [
    "html = st.produce_scattertext_explorer(empath_corpus,\n",
    "                                        category='AzureSupport',\n",
    "                                        category_name='Azure Support',\n",
    "                                        not_category_name='AWSSupport',\n",
    "                                        width_in_pixels=700,\n",
    "                                        metadata=cloudProviderQnR['author_id_y'],\n",
    "                                        use_non_text_features=True,\n",
    "                                        use_full_doc=True,\n",
    "                                        topic_model_term_lists=feat_builder.get_top_model_term_lists())"
   ]
  },
  {
   "cell_type": "code",
   "execution_count": 294,
   "metadata": {},
   "outputs": [
    {
     "data": {
      "text/html": [
       "\n",
       "        <iframe\n",
       "            width=\"800\"\n",
       "            height=\"700\"\n",
       "            src=\"emp-azure-vs-aws.html\"\n",
       "            frameborder=\"0\"\n",
       "            allowfullscreen\n",
       "        ></iframe>\n",
       "        "
      ],
      "text/plain": [
       "<IPython.lib.display.IFrame at 0x1ac25d5588>"
      ]
     },
     "execution_count": 294,
     "metadata": {},
     "output_type": "execute_result"
    }
   ],
   "source": [
    "# uncomment this cell to load the interactive scattertext visualisation\n",
    "filename = \"emp-azure-vs-aws.html\"\n",
    "open(filename, 'wb').write(html.encode('utf-8'))\n",
    "IFrame(src=filename, width = 800, height=700)"
   ]
  },
  {
   "cell_type": "code",
   "execution_count": 295,
   "metadata": {},
   "outputs": [],
   "source": [
    "corpus = (st.CorpusFromParsedDocuments(cloudProviderQnR,\n",
    "                             category_col='author_id_y',\n",
    "                             parsed_col='parsed_y').build().get_stoplisted_unigram_corpus())"
   ]
  },
  {
   "cell_type": "code",
   "execution_count": 300,
   "metadata": {},
   "outputs": [],
   "source": [
    "target_term = 'sorry'\n",
    "html = st.word_similarity_explorer(corpus,\n",
    "                                   category='AzureSupport',\n",
    "                                   category_name='Azure Support',\n",
    "                                   not_category_name='AWSSupport',\n",
    "                                   target_term=target_term,\n",
    "                                   minimum_term_frequency=5,\n",
    "                                   width_in_pixels=800)"
   ]
  },
  {
   "cell_type": "code",
   "execution_count": 301,
   "metadata": {},
   "outputs": [
    {
     "data": {
      "text/html": [
       "\n",
       "        <iframe\n",
       "            width=\"800\"\n",
       "            height=\"700\"\n",
       "            src=\"wordsim-azure-vs-aws.html\"\n",
       "            frameborder=\"0\"\n",
       "            allowfullscreen\n",
       "        ></iframe>\n",
       "        "
      ],
      "text/plain": [
       "<IPython.lib.display.IFrame at 0x1adeaf20b8>"
      ]
     },
     "execution_count": 301,
     "metadata": {},
     "output_type": "execute_result"
    }
   ],
   "source": [
    "# uncomment this cell to load the interactive scattertext visualisation\n",
    "filename = \"wordsim-azure-vs-aws.html\"\n",
    "open(filename, 'wb').write(html.encode('utf-8'))\n",
    "IFrame(src=filename, width = 800, height=700)"
   ]
  },
  {
   "cell_type": "code",
   "execution_count": 310,
   "metadata": {},
   "outputs": [
    {
     "ename": "TypeError",
     "evalue": "('expected string or bytes-like object', 'occurred at index 0')",
     "output_type": "error",
     "traceback": [
      "\u001b[0;31m---------------------------------------------------------------------------\u001b[0m",
      "\u001b[0;31mTypeError\u001b[0m                                 Traceback (most recent call last)",
      "\u001b[0;32m<ipython-input-310-c0df7bc4a0b2>\u001b[0m in \u001b[0;36m<module>\u001b[0;34m()\u001b[0m\n\u001b[1;32m      2\u001b[0m                               \u001b[0mcategory_col\u001b[0m\u001b[0;34m=\u001b[0m\u001b[0;34m'author_id_y'\u001b[0m\u001b[0;34m,\u001b[0m\u001b[0;34m\u001b[0m\u001b[0m\n\u001b[1;32m      3\u001b[0m                               \u001b[0mtext_col\u001b[0m\u001b[0;34m=\u001b[0m\u001b[0;34m'parsed_y'\u001b[0m\u001b[0;34m,\u001b[0m\u001b[0;34m\u001b[0m\u001b[0m\n\u001b[0;32m----> 4\u001b[0;31m                               nlp=st.whitespace_nlp_with_sentences)\n\u001b[0m\u001b[1;32m      5\u001b[0m           \u001b[0;34m.\u001b[0m\u001b[0mbuild\u001b[0m\u001b[0;34m(\u001b[0m\u001b[0;34m)\u001b[0m\u001b[0;34m\u001b[0m\u001b[0m\n\u001b[1;32m      6\u001b[0m           \u001b[0;34m.\u001b[0m\u001b[0mget_unigram_corpus\u001b[0m\u001b[0;34m(\u001b[0m\u001b[0;34m)\u001b[0m\u001b[0;34m\u001b[0m\u001b[0m\n",
      "\u001b[0;32m~/miniconda3/envs/py36/lib/python3.6/site-packages/scattertext/TermDocMatrixFromPandas.py\u001b[0m in \u001b[0;36mbuild\u001b[0;34m(self)\u001b[0m\n\u001b[1;32m    127\u001b[0m                                                                   \u001b[0mterm_idx_store\u001b[0m\u001b[0;34m,\u001b[0m\u001b[0;34m\u001b[0m\u001b[0m\n\u001b[1;32m    128\u001b[0m                                                                   \u001b[0mmetadata_idx_store\u001b[0m\u001b[0;34m,\u001b[0m\u001b[0;34m\u001b[0m\u001b[0m\n\u001b[0;32m--> 129\u001b[0;31m \t\t                                                  y)\n\u001b[0m\u001b[1;32m    130\u001b[0m                 \u001b[0;32mreturn\u001b[0m \u001b[0mtdm\u001b[0m\u001b[0;34m\u001b[0m\u001b[0m\n\u001b[1;32m    131\u001b[0m \u001b[0;34m\u001b[0m\u001b[0m\n",
      "\u001b[0;32m~/miniconda3/envs/py36/lib/python3.6/site-packages/scattertext/CorpusFromPandas.py\u001b[0m in \u001b[0;36m_apply_pipeline_and_get_build_instance\u001b[0;34m(self, X_factory, mX_factory, category_idx_store, df, parse_pipeline, term_idx_store, metadata_idx_store, y)\u001b[0m\n\u001b[1;32m     55\u001b[0m                 \u001b[0mCorpusDF\u001b[0m\u001b[0;34m\u001b[0m\u001b[0m\n\u001b[1;32m     56\u001b[0m \t\t'''\n\u001b[0;32m---> 57\u001b[0;31m                 \u001b[0mdf\u001b[0m\u001b[0;34m.\u001b[0m\u001b[0mapply\u001b[0m\u001b[0;34m(\u001b[0m\u001b[0mparse_pipeline\u001b[0m\u001b[0;34m.\u001b[0m\u001b[0mparse\u001b[0m\u001b[0;34m,\u001b[0m \u001b[0maxis\u001b[0m\u001b[0;34m=\u001b[0m\u001b[0;36m1\u001b[0m\u001b[0;34m)\u001b[0m\u001b[0;34m\u001b[0m\u001b[0m\n\u001b[0m\u001b[1;32m     58\u001b[0m                 \u001b[0my\u001b[0m \u001b[0;34m=\u001b[0m \u001b[0mnp\u001b[0m\u001b[0;34m.\u001b[0m\u001b[0marray\u001b[0m\u001b[0;34m(\u001b[0m\u001b[0my\u001b[0m\u001b[0;34m)\u001b[0m\u001b[0;34m\u001b[0m\u001b[0m\n\u001b[1;32m     59\u001b[0m                 \u001b[0mX\u001b[0m\u001b[0;34m,\u001b[0m \u001b[0mmX\u001b[0m \u001b[0;34m=\u001b[0m \u001b[0mbuild_sparse_matrices\u001b[0m\u001b[0;34m(\u001b[0m\u001b[0my\u001b[0m\u001b[0;34m,\u001b[0m \u001b[0mX_factory\u001b[0m\u001b[0;34m,\u001b[0m \u001b[0mmX_factory\u001b[0m\u001b[0;34m)\u001b[0m\u001b[0;34m\u001b[0m\u001b[0m\n",
      "\u001b[0;32m~/miniconda3/envs/py36/lib/python3.6/site-packages/pandas/core/frame.py\u001b[0m in \u001b[0;36mapply\u001b[0;34m(self, func, axis, broadcast, raw, reduce, args, **kwds)\u001b[0m\n\u001b[1;32m   4875\u001b[0m                         \u001b[0mf\u001b[0m\u001b[0;34m,\u001b[0m \u001b[0maxis\u001b[0m\u001b[0;34m,\u001b[0m\u001b[0;34m\u001b[0m\u001b[0m\n\u001b[1;32m   4876\u001b[0m                         \u001b[0mreduce\u001b[0m\u001b[0;34m=\u001b[0m\u001b[0mreduce\u001b[0m\u001b[0;34m,\u001b[0m\u001b[0;34m\u001b[0m\u001b[0m\n\u001b[0;32m-> 4877\u001b[0;31m                         ignore_failures=ignore_failures)\n\u001b[0m\u001b[1;32m   4878\u001b[0m             \u001b[0;32melse\u001b[0m\u001b[0;34m:\u001b[0m\u001b[0;34m\u001b[0m\u001b[0m\n\u001b[1;32m   4879\u001b[0m                 \u001b[0;32mreturn\u001b[0m \u001b[0mself\u001b[0m\u001b[0;34m.\u001b[0m\u001b[0m_apply_broadcast\u001b[0m\u001b[0;34m(\u001b[0m\u001b[0mf\u001b[0m\u001b[0;34m,\u001b[0m \u001b[0maxis\u001b[0m\u001b[0;34m)\u001b[0m\u001b[0;34m\u001b[0m\u001b[0m\n",
      "\u001b[0;32m~/miniconda3/envs/py36/lib/python3.6/site-packages/pandas/core/frame.py\u001b[0m in \u001b[0;36m_apply_standard\u001b[0;34m(self, func, axis, ignore_failures, reduce)\u001b[0m\n\u001b[1;32m   4971\u001b[0m             \u001b[0;32mtry\u001b[0m\u001b[0;34m:\u001b[0m\u001b[0;34m\u001b[0m\u001b[0m\n\u001b[1;32m   4972\u001b[0m                 \u001b[0;32mfor\u001b[0m \u001b[0mi\u001b[0m\u001b[0;34m,\u001b[0m \u001b[0mv\u001b[0m \u001b[0;32min\u001b[0m \u001b[0menumerate\u001b[0m\u001b[0;34m(\u001b[0m\u001b[0mseries_gen\u001b[0m\u001b[0;34m)\u001b[0m\u001b[0;34m:\u001b[0m\u001b[0;34m\u001b[0m\u001b[0m\n\u001b[0;32m-> 4973\u001b[0;31m                     \u001b[0mresults\u001b[0m\u001b[0;34m[\u001b[0m\u001b[0mi\u001b[0m\u001b[0;34m]\u001b[0m \u001b[0;34m=\u001b[0m \u001b[0mfunc\u001b[0m\u001b[0;34m(\u001b[0m\u001b[0mv\u001b[0m\u001b[0;34m)\u001b[0m\u001b[0;34m\u001b[0m\u001b[0m\n\u001b[0m\u001b[1;32m   4974\u001b[0m                     \u001b[0mkeys\u001b[0m\u001b[0;34m.\u001b[0m\u001b[0mappend\u001b[0m\u001b[0;34m(\u001b[0m\u001b[0mv\u001b[0m\u001b[0;34m.\u001b[0m\u001b[0mname\u001b[0m\u001b[0;34m)\u001b[0m\u001b[0;34m\u001b[0m\u001b[0m\n\u001b[1;32m   4975\u001b[0m             \u001b[0;32mexcept\u001b[0m \u001b[0mException\u001b[0m \u001b[0;32mas\u001b[0m \u001b[0me\u001b[0m\u001b[0;34m:\u001b[0m\u001b[0;34m\u001b[0m\u001b[0m\n",
      "\u001b[0;32m~/miniconda3/envs/py36/lib/python3.6/site-packages/scattertext/TermDocMatrixFromPandas.py\u001b[0m in \u001b[0;36mparse\u001b[0;34m(self, row)\u001b[0m\n\u001b[1;32m     35\u001b[0m         \u001b[0;32mdef\u001b[0m \u001b[0mparse\u001b[0m\u001b[0;34m(\u001b[0m\u001b[0mself\u001b[0m\u001b[0;34m,\u001b[0m \u001b[0mrow\u001b[0m\u001b[0;34m)\u001b[0m\u001b[0;34m:\u001b[0m\u001b[0;34m\u001b[0m\u001b[0m\n\u001b[1;32m     36\u001b[0m                 \u001b[0mcleaned_text\u001b[0m \u001b[0;34m=\u001b[0m \u001b[0mself\u001b[0m\u001b[0;34m.\u001b[0m\u001b[0m_clean_function\u001b[0m\u001b[0;34m(\u001b[0m\u001b[0mself\u001b[0m\u001b[0;34m.\u001b[0m\u001b[0m_get_raw_text_from_row\u001b[0m\u001b[0;34m(\u001b[0m\u001b[0mrow\u001b[0m\u001b[0;34m)\u001b[0m\u001b[0;34m)\u001b[0m\u001b[0;34m\u001b[0m\u001b[0m\n\u001b[0;32m---> 37\u001b[0;31m                 \u001b[0mparsed_text\u001b[0m \u001b[0;34m=\u001b[0m \u001b[0mself\u001b[0m\u001b[0;34m.\u001b[0m\u001b[0mnlp\u001b[0m\u001b[0;34m(\u001b[0m\u001b[0mcleaned_text\u001b[0m\u001b[0;34m)\u001b[0m\u001b[0;34m\u001b[0m\u001b[0m\n\u001b[0m\u001b[1;32m     38\u001b[0m                 \u001b[0;32mif\u001b[0m \u001b[0mself\u001b[0m\u001b[0;34m.\u001b[0m\u001b[0m_verbose\u001b[0m \u001b[0;32mand\u001b[0m \u001b[0mrow\u001b[0m\u001b[0;34m.\u001b[0m\u001b[0mname\u001b[0m \u001b[0;34m%\u001b[0m \u001b[0;36m100\u001b[0m\u001b[0;34m:\u001b[0m\u001b[0;34m\u001b[0m\u001b[0m\n\u001b[1;32m     39\u001b[0m                         \u001b[0mprint\u001b[0m\u001b[0;34m(\u001b[0m\u001b[0mrow\u001b[0m\u001b[0;34m.\u001b[0m\u001b[0mname\u001b[0m\u001b[0;34m)\u001b[0m\u001b[0;34m\u001b[0m\u001b[0m\n",
      "\u001b[0;32m~/miniconda3/envs/py36/lib/python3.6/site-packages/scattertext/WhitespaceNLP.py\u001b[0m in \u001b[0;36mwhitespace_nlp_with_sentences\u001b[0;34m(doc, entity_type, tag_type, tok_splitter_re)\u001b[0m\n\u001b[1;32m    138\u001b[0m         \u001b[0msentence_split_pat\u001b[0m \u001b[0;34m=\u001b[0m \u001b[0mre\u001b[0m\u001b[0;34m.\u001b[0m\u001b[0mcompile\u001b[0m\u001b[0;34m(\u001b[0m\u001b[0;34mr'([^\\.!?]*?[\\.!?$])'\u001b[0m\u001b[0;34m,\u001b[0m \u001b[0mre\u001b[0m\u001b[0;34m.\u001b[0m\u001b[0mM\u001b[0m\u001b[0;34m)\u001b[0m\u001b[0;34m\u001b[0m\u001b[0m\n\u001b[1;32m    139\u001b[0m         \u001b[0msents\u001b[0m \u001b[0;34m=\u001b[0m \u001b[0;34m[\u001b[0m\u001b[0;34m]\u001b[0m\u001b[0;34m\u001b[0m\u001b[0m\n\u001b[0;32m--> 140\u001b[0;31m         \u001b[0mraw_sents\u001b[0m \u001b[0;34m=\u001b[0m \u001b[0msentence_split_pat\u001b[0m\u001b[0;34m.\u001b[0m\u001b[0mfindall\u001b[0m\u001b[0;34m(\u001b[0m\u001b[0mdoc\u001b[0m\u001b[0;34m)\u001b[0m\u001b[0;34m\u001b[0m\u001b[0m\n\u001b[0m\u001b[1;32m    141\u001b[0m         \u001b[0;32mif\u001b[0m \u001b[0mlen\u001b[0m\u001b[0;34m(\u001b[0m\u001b[0mraw_sents\u001b[0m\u001b[0;34m)\u001b[0m \u001b[0;34m==\u001b[0m \u001b[0;36m0\u001b[0m\u001b[0;34m:\u001b[0m\u001b[0;34m\u001b[0m\u001b[0m\n\u001b[1;32m    142\u001b[0m                 \u001b[0mraw_sents\u001b[0m \u001b[0;34m=\u001b[0m \u001b[0;34m[\u001b[0m\u001b[0mdoc\u001b[0m\u001b[0;34m]\u001b[0m\u001b[0;34m\u001b[0m\u001b[0m\n",
      "\u001b[0;31mTypeError\u001b[0m: ('expected string or bytes-like object', 'occurred at index 0')"
     ]
    }
   ],
   "source": [
    "corpus = (st.CorpusFromPandas(cloudProviderQnR,\n",
    "                              category_col='author_id_y',\n",
    "                              text_col='parsed_y',\n",
    "                              nlp=st.whitespace_nlp_with_sentences)\n",
    "          .build()\n",
    "          .get_unigram_corpus()\n",
    "          .compact(st.ClassPercentageCompactor(term_count=2,\n",
    "                                               term_ranker=st.OncePerDocFrequencyRanker)))"
   ]
  },
  {
   "cell_type": "code",
   "execution_count": 315,
   "metadata": {},
   "outputs": [],
   "source": [
    "corpus = (st.CorpusFromParsedDocuments(cloudProviderQnR,\n",
    "                             category_col='author_id_y',\n",
    "                             parsed_col='parsed_x').build().get_stoplisted_unigram_corpus()).compact(st.ClassPercentageCompactor(term_count=2,\n",
    "                                               term_ranker=st.OncePerDocFrequencyRanker))\n",
    "\n",
    "html = st.produce_characteristic_explorer(corpus,\n",
    "                                          category='AzureSupport',\n",
    "                                          category_name='Azure Support',\n",
    "                                          not_category_name='AWSSupport',\n",
    "                                          metadata=corpus.get_df()['parsed_y']\n",
    ")"
   ]
  },
  {
   "cell_type": "code",
   "execution_count": 316,
   "metadata": {},
   "outputs": [
    {
     "data": {
      "text/html": [
       "\n",
       "        <iframe\n",
       "            width=\"800\"\n",
       "            height=\"700\"\n",
       "            src=\"characteristics.html\"\n",
       "            frameborder=\"0\"\n",
       "            allowfullscreen\n",
       "        ></iframe>\n",
       "        "
      ],
      "text/plain": [
       "<IPython.lib.display.IFrame at 0x1a82410f60>"
      ]
     },
     "execution_count": 316,
     "metadata": {},
     "output_type": "execute_result"
    }
   ],
   "source": [
    "# uncomment this cell to load the interactive scattertext visualisation\n",
    "filename = \"characteristics.html\"\n",
    "open(filename, 'wb').write(html.encode('utf-8'))\n",
    "IFrame(src=filename, width = 800, height=700)"
   ]
  },
  {
   "cell_type": "code",
   "execution_count": null,
   "metadata": {},
   "outputs": [],
   "source": []
  }
 ],
 "metadata": {
  "kernelspec": {
   "display_name": "Python 3",
   "language": "python",
   "name": "python3"
  },
  "language_info": {
   "codemirror_mode": {
    "name": "ipython",
    "version": 3
   },
   "file_extension": ".py",
   "mimetype": "text/x-python",
   "name": "python",
   "nbconvert_exporter": "python",
   "pygments_lexer": "ipython3",
   "version": "3.6.4"
  }
 },
 "nbformat": 4,
 "nbformat_minor": 2
}
